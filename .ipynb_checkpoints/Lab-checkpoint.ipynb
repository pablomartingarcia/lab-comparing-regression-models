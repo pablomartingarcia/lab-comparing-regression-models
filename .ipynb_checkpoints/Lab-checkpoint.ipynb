{
 "cells": [
  {
   "cell_type": "code",
   "execution_count": 1,
   "id": "bd2716a2",
   "metadata": {},
   "outputs": [],
   "source": [
    "import pandas as pd\n",
    "import numpy as np\n",
    "import datetime\n",
    "import warnings\n",
    "import matplotlib.pyplot as plt\n",
    "import seaborn as sns\n",
    "\n",
    "pd.set_option('display.max_columns', None)\n",
    "warnings.filterwarnings('ignore')\n",
    "\n",
    "customer_df = pd.read_csv(\"/Users/suso/BootcampDA/Unit4/Labs/lab-cleaning-categorical-data/files_for_lab/we_fn_use_c_marketing_customer_value_analysis.csv\")\n",
    "new_column_names = {\n",
    "    'Customer': 'customer',\n",
    "    'State': 'state',\n",
    "    'Customer Lifetime Value': 'customer_lifetime_value',\n",
    "    'Response': 'response',\n",
    "    'Coverage': 'coverage',\n",
    "    'Education': 'education',\n",
    "    'Effective To Date': 'effective_to_date',\n",
    "    'EmploymentStatus': 'employment_status',\n",
    "    'Gender': 'gender',\n",
    "    'Income': 'income',\n",
    "    'Location Code': 'location_code',\n",
    "    'Marital Status': 'marital_status',\n",
    "    'Monthly Premium Auto': 'monthly_premium_auto',\n",
    "    'Months Since Last Claim': 'months_since_last_claim',\n",
    "    'Months Since Policy Inception': 'months_since_policy_inception',\n",
    "    'Number of Open Complaints': 'number_of_open_complaints',\n",
    "    'Number of Policies': 'number_of_policies',\n",
    "    'Policy Type': 'policy_type',\n",
    "    'Policy': 'policy',\n",
    "    'Renew Offer Type': 'renew_offer_type',\n",
    "    'Sales Channel': 'sales_channel',\n",
    "    'Total Claim Amount': 'total_claim_amount',\n",
    "    'Vehicle Class': 'vehicle_class',\n",
    "    'Vehicle Size': 'vehicle_size',\n",
    "}\n",
    "customer_df = customer_df.rename(columns=new_column_names)\n",
    "\n",
    "customer_df['effective_to_date'] = pd.to_datetime(customer_df['effective_to_date'])\n",
    "\n",
    "customer_df = customer_df.drop('customer', axis=1)\n",
    "\n",
    "numerical_df = customer_df.select_dtypes(include=['int64', 'float64'])\n",
    "categorical_df = customer_df.select_dtypes(include=['object'])\n",
    "\n",
    "import numpy as np\n",
    "\n",
    "def remove_outliers_zscore(customer_df, numerical_df, threshold=3):\n",
    "    z_scores = np.abs((numerical_df - numerical_df.mean()) / numerical_df.std())\n",
    "    outliers = (z_scores > threshold).any(axis=1)\n",
    "    return customer_df[~outliers]\n",
    "\n",
    "cleaned_df = remove_outliers_zscore(customer_df, numerical_df)\n",
    "\n",
    "cleaned_df_copy = cleaned_df.copy()\n",
    "\n",
    "from sklearn.preprocessing import MinMaxScaler\n",
    "\n",
    "numericals = cleaned_df_copy.select_dtypes(include=['int64', 'float64'])\n",
    "categoricals = cleaned_df_copy.select_dtypes(include=['object'])\n",
    "\n",
    "scaler = MinMaxScaler()\n",
    "numericals = scaler.fit_transform(numericals)\n",
    "\n",
    "cleaned_df_copy[\"coverage\"] = cleaned_df_copy[\"coverage\"].map({\"Basic\": 0, \"Extended\": 1, \"Premium\": 2})\n",
    "cleaned_df_copy[\"state\"] = cleaned_df_copy[\"state\"].map({\"Washington\": 0, \"Arizona\": 1, \"Nevada\": 2, \"California\": 3, \"Oregon\": 4})\n",
    "cleaned_df_copy[\"response\"] = cleaned_df_copy[\"response\"].map({\"No\": 0, \"Yes\": 1})\n",
    "cleaned_df_copy[\"education\"] = cleaned_df_copy[\"education\"].map({\"Bachelor\": 0, \"College\": 1, \"Master\": 2, \"High School or Below\": 3, \"Doctor\": 4})\n",
    "cleaned_df_copy[\"employment_status\"] = cleaned_df_copy[\"employment_status\"].map({\"Employed\": 0, \"Unemployed\": 1, \"Medical Leave\": 2, \"Disabled\": 3, \"Retired\": 4})\n",
    "cleaned_df_copy[\"gender\"] = cleaned_df_copy[\"gender\"].map({\"F\": 0, \"M\": 1})\n",
    "cleaned_df_copy[\"location_code\"] = cleaned_df_copy[\"location_code\"].map({\"Suburban\": 0, \"Rural\": 1, \"Urban\": 2})\n",
    "cleaned_df_copy[\"marital_status\"] = cleaned_df_copy[\"marital_status\"].map({\"Married\": 0, \"Single\": 1, \"Divorced\": 2})\n",
    "cleaned_df_copy[\"policy_type\"] = cleaned_df_copy[\"policy_type\"].map({\"Corporate Auto\": 0, \"Personal Auto\": 1, \"Special Auto\": 2})\n",
    "cleaned_df_copy[\"policy\"] = cleaned_df_copy[\"policy\"].map({\"Corporate L3\": 0, \"Personal L3\": 1, \"Corporate L2\": 2, \"Personal L1\": 3, \"Special L2\": 4, \"Corporate L1\": 5, \"Personal L2\": 6, \"Special L1\": 7, \"Special L3\": 8})\n",
    "cleaned_df_copy[\"renew_offer_type\"] = cleaned_df_copy[\"renew_offer_type\"].map({\"Offer1\": 0, \"Offer3\": 1, \"Offer2\": 2, \"Offer4\": 3})\n",
    "cleaned_df_copy[\"sales_channel\"] = cleaned_df_copy[\"sales_channel\"].map({\"Agent\": 0, \"Call Center\": 1, \"Web\": 2, \"Branch\": 3})\n",
    "cleaned_df_copy[\"vehicle_class\"] = cleaned_df_copy[\"vehicle_class\"].map({\"Two-Door Car\": 0, \"Four-Door Car\": 1, \"SUV\": 2, \"Sports Car\": 3, \"Luxury SUV\": 4, \"Luxury Car\": 5})\n",
    "cleaned_df_copy[\"vehicle_size\"] = cleaned_df_copy[\"vehicle_size\"].map({\"Medsize\": 0, \"Small\": 1, \"Large\": 2})\n",
    "\n",
    "cleaned_df_copy['day_of_week'] = cleaned_df_copy['effective_to_date'].dt.dayofweek\n",
    "cleaned_df_copy['month'] = cleaned_df_copy['effective_to_date'].dt.month\n",
    "\n",
    "cleaned_df_copy = cleaned_df_copy.drop('effective_to_date', axis=1)"
   ]
  },
  {
   "cell_type": "code",
   "execution_count": 10,
   "id": "fa008cc2",
   "metadata": {},
   "outputs": [],
   "source": [
    "#1. In this final lab, we will model our data. Import sklearn train_test_split and separate the data.\n",
    "\n",
    "from sklearn.model_selection import train_test_split\n",
    "target_variable = cleaned_df_copy['customer_lifetime_value']\n",
    "independent_vars = cleaned_df_copy[['income', 'total_claim_amount', 'number_of_policies', 'months_since_policy_inception', 'number_of_open_complaints', 'monthly_premium_auto', 'months_since_last_claim', 'coverage', 'state', 'response', 'education', 'employment_status', 'gender', 'location_code', 'marital_status', 'policy_type', 'policy', 'renew_offer_type', 'sales_channel', 'vehicle_class', 'vehicle_size', 'day_of_week', 'month']]"
   ]
  },
  {
   "cell_type": "code",
   "execution_count": 11,
   "id": "efa4bf5c",
   "metadata": {},
   "outputs": [],
   "source": [
    "X = independent_vars\n",
    "y = target_variable\n",
    "\n",
    "X_train, X_test, y_train, y_test = train_test_split(X, y, test_size=0.2, random_state=42)\n"
   ]
  },
  {
   "cell_type": "code",
   "execution_count": 16,
   "id": "927a2cb8",
   "metadata": {},
   "outputs": [],
   "source": [
    "#2. Try a simple linear regression with all the data to see whether we are getting good results.\n",
    "\n",
    "from sklearn.linear_model import LinearRegression\n",
    "\n",
    "model = LinearRegression()\n",
    "\n",
    "model.fit(X, y)\n",
    "\n",
    "y_pred = model.predict(X)\n",
    "\n"
   ]
  },
  {
   "cell_type": "code",
   "execution_count": 17,
   "id": "3da5d605",
   "metadata": {},
   "outputs": [],
   "source": [
    "#3. Great! Now define a function that takes a list of models and train (and tests) them so we can try a lot of them without repeating code.\n",
    "from sklearn.model_selection import train_test_split\n",
    "from sklearn.metrics import mean_squared_error\n",
    "\n",
    "def train_and_test_models(models, X, y, test_size=0.2, random_state=42):\n",
    "    X_train, X_test, y_train, y_test = train_test_split(X, y, test_size=test_size, random_state=random_state)\n",
    "\n",
    "    results = {}\n",
    "\n",
    "    for model in models:\n",
    "        model.fit(X_train, y_train)\n",
    "\n",
    "        y_pred = model.predict(X_test)\n",
    "\n",
    "        mse = mean_squared_error(y_test, y_pred)\n",
    "\n",
    "        results[type(model).__name__] = mse\n",
    "\n",
    "    return results"
   ]
  },
  {
   "cell_type": "code",
   "execution_count": 19,
   "id": "1b8b0b99",
   "metadata": {},
   "outputs": [
    {
     "name": "stdout",
     "output_type": "stream",
     "text": [
      "LinearRegression: MSE = 20536702.650426116\n",
      "KNeighborsRegressor: MSE = 23524204.858369853\n"
     ]
    }
   ],
   "source": [
    "#4. Use the function to check LinearRegressor and KNeighborsRegressor.\n",
    "\n",
    "from sklearn.linear_model import LinearRegression\n",
    "from sklearn.neighbors import KNeighborsRegressor\n",
    "from sklearn.model_selection import train_test_split\n",
    "from sklearn.metrics import mean_squared_error\n",
    "\n",
    "models = [LinearRegression(), KNeighborsRegressor()]\n",
    "\n",
    "results = train_and_test_models(models, X, y)\n",
    "\n",
    "for model, mse in results.items():\n",
    "    print(f\"{model}: MSE = {mse}\")"
   ]
  },
  {
   "cell_type": "code",
   "execution_count": 21,
   "id": "e56eff3c",
   "metadata": {},
   "outputs": [
    {
     "name": "stdout",
     "output_type": "stream",
     "text": [
      "LinearRegression: MSE = 20536702.650426116\n",
      "KNeighborsRegressor: MSE = 23524204.858369853\n",
      "MLPRegressor: MSE = 20605800.64233061\n"
     ]
    }
   ],
   "source": [
    "#5. You can check also the MLPRegressor for this task!\n",
    "from sklearn.neural_network import MLPRegressor\n",
    "\n",
    "models = [LinearRegression(), KNeighborsRegressor(), MLPRegressor()]\n",
    "\n",
    "results = train_and_test_models(models, X, y)\n",
    "\n",
    "for model, mse in results.items():\n",
    "    print(f\"{model}: MSE = {mse}\")"
   ]
  },
  {
   "cell_type": "code",
   "execution_count": null,
   "id": "fe1ec601",
   "metadata": {},
   "outputs": [],
   "source": []
  }
 ],
 "metadata": {
  "kernelspec": {
   "display_name": "Python 3 (ipykernel)",
   "language": "python",
   "name": "python3"
  },
  "language_info": {
   "codemirror_mode": {
    "name": "ipython",
    "version": 3
   },
   "file_extension": ".py",
   "mimetype": "text/x-python",
   "name": "python",
   "nbconvert_exporter": "python",
   "pygments_lexer": "ipython3",
   "version": "3.11.5"
  }
 },
 "nbformat": 4,
 "nbformat_minor": 5
}
